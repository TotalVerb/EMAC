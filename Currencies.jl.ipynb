{
 "cells": [
  {
   "cell_type": "markdown",
   "metadata": {},
   "source": [
    "# Currencies.jl Tutorial\n",
    "\n",
    "This is a brief tutorial on how and why to use the [Currencies.jl](https://github.com/TotalVerb/Currencies.jl) library. Topics to be discussed:\n",
    "\n",
    " - Motivation\n",
    " - Basics\n",
    " - Exchange\n",
    " - Baskets\n",
    " - Custom currencies\n",
    " - Performance notes\n",
    " \n",
    "## Motivation\n",
    "\n",
    "It is usually a bad idea to store monetary values using floating point numbers, unless one makes sure to round properly after each step, or one is certain that exact comparisons will not be required."
   ]
  },
  {
   "cell_type": "code",
   "execution_count": 1,
   "metadata": {
    "collapsed": false
   },
   "outputs": [
    {
     "data": {
      "text/plain": [
       "1.1"
      ]
     },
     "execution_count": 1,
     "metadata": {},
     "output_type": "execute_result"
    }
   ],
   "source": [
    "price = 1.10"
   ]
  },
  {
   "cell_type": "code",
   "execution_count": 2,
   "metadata": {
    "collapsed": false
   },
   "outputs": [
    {
     "data": {
      "text/plain": [
       "1.2000000000000002"
      ]
     },
     "execution_count": 2,
     "metadata": {},
     "output_type": "execute_result"
    }
   ],
   "source": [
    "price += 0.10"
   ]
  },
  {
   "cell_type": "code",
   "execution_count": 3,
   "metadata": {
    "collapsed": false
   },
   "outputs": [
    {
     "data": {
      "text/plain": [
       "false"
      ]
     },
     "execution_count": 3,
     "metadata": {},
     "output_type": "execute_result"
    }
   ],
   "source": [
    "price == 1.20"
   ]
  },
  {
   "cell_type": "code",
   "execution_count": 4,
   "metadata": {
    "collapsed": false
   },
   "outputs": [
    {
     "data": {
      "text/plain": [
       "true"
      ]
     },
     "execution_count": 4,
     "metadata": {},
     "output_type": "execute_result"
    }
   ],
   "source": [
    "price ≈ 1.20"
   ]
  },
  {
   "cell_type": "markdown",
   "metadata": {},
   "source": [
    "## Basics\n",
    "\n",
    "The Currencies.jl library provides a fixed-point decimal type and a convenient interface for using it."
   ]
  },
  {
   "cell_type": "code",
   "execution_count": 5,
   "metadata": {
    "collapsed": false
   },
   "outputs": [],
   "source": [
    "using Currencies\n",
    "\n",
    "@usingcurrencies USD, EUR;"
   ]
  },
  {
   "cell_type": "code",
   "execution_count": 6,
   "metadata": {
    "collapsed": false
   },
   "outputs": [
    {
     "data": {
      "text/latex": [
       "$1.10\\,\\mathrm{USD}$"
      ],
      "text/plain": [
       "1.10 USD"
      ]
     },
     "execution_count": 6,
     "metadata": {},
     "output_type": "execute_result"
    }
   ],
   "source": [
    "price = 1.10USD"
   ]
  },
  {
   "cell_type": "code",
   "execution_count": 7,
   "metadata": {
    "collapsed": false
   },
   "outputs": [
    {
     "data": {
      "text/latex": [
       "$1.20\\,\\mathrm{USD}$"
      ],
      "text/plain": [
       "1.20 USD"
      ]
     },
     "execution_count": 7,
     "metadata": {},
     "output_type": "execute_result"
    }
   ],
   "source": [
    "price += 0.10USD"
   ]
  },
  {
   "cell_type": "code",
   "execution_count": 8,
   "metadata": {
    "collapsed": false
   },
   "outputs": [
    {
     "data": {
      "text/plain": [
       "true"
      ]
     },
     "execution_count": 8,
     "metadata": {},
     "output_type": "execute_result"
    }
   ],
   "source": [
    "price == 1.20USD"
   ]
  },
  {
   "cell_type": "code",
   "execution_count": 9,
   "metadata": {
    "collapsed": false
   },
   "outputs": [
    {
     "data": {
      "text/plain": [
       "Currencies.Monetary{:USD,Int64,2}"
      ]
     },
     "execution_count": 9,
     "metadata": {},
     "output_type": "execute_result"
    }
   ],
   "source": [
    "typeof(price)"
   ]
  },
  {
   "cell_type": "code",
   "execution_count": 10,
   "metadata": {
    "collapsed": false
   },
   "outputs": [
    {
     "ename": "LoadError",
     "evalue": "LoadError: MethodError: no method matching +(::Currencies.Monetary{:USD,Int64,2}, ::Currencies.Monetary{:EUR,Int64,2})\nClosest candidates are:\n  +(::Any, ::Any, !Matched::Any, !Matched::Any...)\n  +{T,U,V}(::Currencies.Monetary{T,U,V}, !Matched::Currencies.Monetary{T,U,V})\n  +{T<:Currencies.Basket,U<:Currencies.AbstractMonetary}(!Matched::T<:Currencies.Basket, ::U<:Currencies.AbstractMonetary)\n  ...\nwhile loading In[10], in expression starting on line 1",
     "output_type": "error",
     "traceback": [
      "LoadError: MethodError: no method matching +(::Currencies.Monetary{:USD,Int64,2}, ::Currencies.Monetary{:EUR,Int64,2})\nClosest candidates are:\n  +(::Any, ::Any, !Matched::Any, !Matched::Any...)\n  +{T,U,V}(::Currencies.Monetary{T,U,V}, !Matched::Currencies.Monetary{T,U,V})\n  +{T<:Currencies.Basket,U<:Currencies.AbstractMonetary}(!Matched::T<:Currencies.Basket, ::U<:Currencies.AbstractMonetary)\n  ...\nwhile loading In[10], in expression starting on line 1",
      ""
     ]
    }
   ],
   "source": [
    "price += 0.10EUR"
   ]
  },
  {
   "cell_type": "code",
   "execution_count": 11,
   "metadata": {
    "collapsed": false
   },
   "outputs": [
    {
     "data": {
      "text/latex": [
       "$6.00\\,\\mathrm{USD}$"
      ],
      "text/plain": [
       "6.00 USD"
      ]
     },
     "execution_count": 11,
     "metadata": {},
     "output_type": "execute_result"
    }
   ],
   "source": [
    "price *= 5"
   ]
  },
  {
   "cell_type": "code",
   "execution_count": 12,
   "metadata": {
    "collapsed": false
   },
   "outputs": [
    {
     "data": {
      "text/latex": [
       "$7.20\\,\\mathrm{USD}$"
      ],
      "text/plain": [
       "7.20 USD"
      ]
     },
     "execution_count": 12,
     "metadata": {},
     "output_type": "execute_result"
    }
   ],
   "source": [
    "price *= 1.20"
   ]
  },
  {
   "cell_type": "markdown",
   "metadata": {},
   "source": [
    "## Exchange\n",
    "\n",
    "The Currencies.jl library also provides built-in integration with [fixer.io](http://fixer.io/), an API to fetch the latest European Central Bank exchange rates."
   ]
  },
  {
   "cell_type": "code",
   "execution_count": 13,
   "metadata": {
    "collapsed": false
   },
   "outputs": [
    {
     "data": {
      "text/plain": [
       "Currencies.ExchangeRateTable with 32 entries:\n",
       "  :AUD => 0.6718172657037286\n",
       "  :INR => 0.013310740569673074\n",
       "  :USD => 0.8847208705653365\n",
       "  :ILS => 0.2350618212589911\n",
       "  :ZAR => 0.0611583389395144\n",
       "  :MXN => 0.05087039241420708\n",
       "  :HUF => 0.0032038959374599513\n",
       "  :SEK => 0.1091548142730835\n",
       "  :PHP => 0.018877541389009496\n",
       "  :THB => 0.025184476288815573\n",
       "  :BRL => 0.25109225129312507\n",
       "  :CZK => 0.03699045646223274\n",
       "  :JPY => 0.007949757532395262\n",
       "  :CHF => 0.9092562284051645\n",
       "  :TRY => 0.3134010279553717\n",
       "  :KRW => 0.0007695089763222089\n",
       "  :HKD => 0.11406280297932042\n",
       "  :SGD => 0.655694708543702\n",
       "  :NZD => 0.6059137178865729\n",
       "  :NOK => 0.1086802951756817\n",
       "  :BGN => 0.5112997238981491\n",
       "  :HRK => 0.133738114025116\n",
       "  :CAD => 0.7030865499542994\n",
       "  :EUR => 1.0\n",
       "  :GBP => 1.2907389480477574\n",
       "  :DKK => 0.13435803729779114\n",
       "  :RON => 0.2240143369175627\n",
       "  :IDR => 6.704466448503329e-5\n",
       "  :CNY => 0.13621936766969528\n",
       "  :PLN => 0.22769707181565646\n",
       "  :RUB => 0.013553128943113453\n",
       "  :MYR => 0.2256419513515953"
      ]
     },
     "execution_count": 13,
     "metadata": {},
     "output_type": "execute_result"
    }
   ],
   "source": [
    "ecbrates()"
   ]
  },
  {
   "cell_type": "code",
   "execution_count": 14,
   "metadata": {
    "collapsed": false
   },
   "outputs": [
    {
     "data": {
      "text/plain": [
       "Currencies.ExchangeRateTable with 32 entries:\n",
       "  :AUD => 0.6718172657037286\n",
       "  :INR => 0.013310740569673074\n",
       "  :USD => 0.8847208705653365\n",
       "  :ILS => 0.2350618212589911\n",
       "  :ZAR => 0.0611583389395144\n",
       "  :MXN => 0.05087039241420708\n",
       "  :HUF => 0.0032038959374599513\n",
       "  :SEK => 0.1091548142730835\n",
       "  :PHP => 0.018877541389009496\n",
       "  :THB => 0.025184476288815573\n",
       "  :BRL => 0.25109225129312507\n",
       "  :CZK => 0.03699045646223274\n",
       "  :JPY => 0.007949757532395262\n",
       "  :CHF => 0.9092562284051645\n",
       "  :TRY => 0.3134010279553717\n",
       "  :KRW => 0.0007695089763222089\n",
       "  :HKD => 0.11406280297932042\n",
       "  :SGD => 0.655694708543702\n",
       "  :NZD => 0.6059137178865729\n",
       "  :NOK => 0.1086802951756817\n",
       "  :BGN => 0.5112997238981491\n",
       "  :HRK => 0.133738114025116\n",
       "  :CAD => 0.7030865499542994\n",
       "  :EUR => 1.0\n",
       "  :GBP => 1.2907389480477574\n",
       "  :DKK => 0.13435803729779114\n",
       "  :RON => 0.2240143369175627\n",
       "  :IDR => 6.704466448503329e-5\n",
       "  :CNY => 0.13621936766969528\n",
       "  :PLN => 0.22769707181565646\n",
       "  :RUB => 0.013553128943113453\n",
       "  :MYR => 0.2256419513515953"
      ]
     },
     "execution_count": 14,
     "metadata": {},
     "output_type": "execute_result"
    }
   ],
   "source": [
    "ecbrates()"
   ]
  },
  {
   "cell_type": "code",
   "execution_count": 15,
   "metadata": {
    "collapsed": false
   },
   "outputs": [
    {
     "data": {
      "text/latex": [
       "$113.03\\,\\mathrm{USD}$"
      ],
      "text/plain": [
       "113.03 USD"
      ]
     },
     "execution_count": 15,
     "metadata": {},
     "output_type": "execute_result"
    }
   ],
   "source": [
    "valuate(ecbrates(), :USD, 100EUR)"
   ]
  },
  {
   "cell_type": "code",
   "execution_count": 16,
   "metadata": {
    "collapsed": false
   },
   "outputs": [
    {
     "data": {
      "text/latex": [
       "$629.17\\,\\mathrm{CAD}$"
      ],
      "text/plain": [
       "629.17 CAD"
      ]
     },
     "execution_count": 16,
     "metadata": {},
     "output_type": "execute_result"
    }
   ],
   "source": [
    "valuate(ecbrates(), :CAD, 500USD)"
   ]
  },
  {
   "cell_type": "markdown",
   "metadata": {},
   "source": [
    "## Basket\n",
    "\n",
    "We can even work with several currencies at the same time using baskets."
   ]
  },
  {
   "cell_type": "code",
   "execution_count": 17,
   "metadata": {
    "collapsed": false
   },
   "outputs": [
    {
     "data": {
      "text/markdown": [
       "$2$-currency `Currencies.StaticBasket`:\n",
       "\n",
       " - $100.00\\,\\mathrm{USD}$\n",
       " - $50.00\\,\\mathrm{EUR}$"
      ],
      "text/plain": [
       "2-currency Currencies.StaticBasket:\n",
       " 100.00 USD\n",
       " 50.00 EUR"
      ]
     },
     "execution_count": 17,
     "metadata": {},
     "output_type": "execute_result"
    }
   ],
   "source": [
    "StaticBasket((100USD, 50EUR))"
   ]
  },
  {
   "cell_type": "code",
   "execution_count": 18,
   "metadata": {
    "collapsed": false
   },
   "outputs": [
    {
     "data": {
      "text/markdown": [
       "$2$-currency `Currencies.StaticBasket`:\n",
       "\n",
       " - $100.00\\,\\mathrm{USD}$\n",
       " - $100.00\\,\\mathrm{EUR}$"
      ],
      "text/plain": [
       "2-currency Currencies.StaticBasket:\n",
       " 100.00 USD\n",
       " 100.00 EUR"
      ]
     },
     "execution_count": 18,
     "metadata": {},
     "output_type": "execute_result"
    }
   ],
   "source": [
    "ans + 50EUR"
   ]
  },
  {
   "cell_type": "code",
   "execution_count": 19,
   "metadata": {
    "collapsed": false
   },
   "outputs": [
    {
     "data": {
      "text/markdown": [
       "$1$-currency `Currencies.StaticBasket`:\n",
       "\n",
       " - $100.00\\,\\mathrm{EUR}$"
      ],
      "text/plain": [
       "1-currency Currencies.StaticBasket:\n",
       " 100.00 EUR"
      ]
     },
     "execution_count": 19,
     "metadata": {},
     "output_type": "execute_result"
    }
   ],
   "source": [
    "ans - 100USD"
   ]
  },
  {
   "cell_type": "code",
   "execution_count": 20,
   "metadata": {
    "collapsed": false
   },
   "outputs": [
    {
     "data": {
      "text/plain": [
       "true"
      ]
     },
     "execution_count": 20,
     "metadata": {},
     "output_type": "execute_result"
    }
   ],
   "source": [
    "ans == 100EUR"
   ]
  },
  {
   "cell_type": "code",
   "execution_count": 21,
   "metadata": {
    "collapsed": false
   },
   "outputs": [
    {
     "data": {
      "text/markdown": [
       "$2$-currency `Currencies.StaticBasket`:\n",
       "\n",
       " - $8.00\\,\\mathrm{USD}$\n",
       " - $100.00\\,\\mathrm{EUR}$"
      ],
      "text/plain": [
       "2-currency Currencies.StaticBasket:\n",
       " 8.00 USD\n",
       " 100.00 EUR"
      ]
     },
     "execution_count": 21,
     "metadata": {},
     "output_type": "execute_result"
    }
   ],
   "source": [
    "StaticBasket(100EUR) + 8USD"
   ]
  },
  {
   "cell_type": "code",
   "execution_count": 22,
   "metadata": {
    "collapsed": false
   },
   "outputs": [
    {
     "data": {
      "text/markdown": [
       "$1$-currency `Currencies.DynamicBasket`:\n",
       "\n",
       " - $100.00\\,\\mathrm{EUR}$"
      ],
      "text/plain": [
       "1-currency Currencies.DynamicBasket:\n",
       " 100.00 EUR"
      ]
     },
     "execution_count": 22,
     "metadata": {},
     "output_type": "execute_result"
    }
   ],
   "source": [
    "basket = DynamicBasket(100EUR)"
   ]
  },
  {
   "cell_type": "code",
   "execution_count": 23,
   "metadata": {
    "collapsed": false
   },
   "outputs": [
    {
     "data": {
      "text/markdown": [
       "$2$-currency `Currencies.DynamicBasket`:\n",
       "\n",
       " - $8.00\\,\\mathrm{USD}$\n",
       " - $100.00\\,\\mathrm{EUR}$"
      ],
      "text/plain": [
       "2-currency Currencies.DynamicBasket:\n",
       " 8.00 USD\n",
       " 100.00 EUR"
      ]
     },
     "execution_count": 23,
     "metadata": {},
     "output_type": "execute_result"
    }
   ],
   "source": [
    "push!(basket, 8USD)"
   ]
  },
  {
   "cell_type": "code",
   "execution_count": 24,
   "metadata": {
    "collapsed": false
   },
   "outputs": [
    {
     "data": {
      "text/markdown": [
       "$2$-currency `Currencies.DynamicBasket`:\n",
       "\n",
       " - $8.00\\,\\mathrm{USD}$\n",
       " - $100.00\\,\\mathrm{EUR}$"
      ],
      "text/plain": [
       "2-currency Currencies.DynamicBasket:\n",
       " 8.00 USD\n",
       " 100.00 EUR"
      ]
     },
     "execution_count": 24,
     "metadata": {},
     "output_type": "execute_result"
    }
   ],
   "source": [
    "basket"
   ]
  },
  {
   "cell_type": "code",
   "execution_count": 25,
   "metadata": {
    "collapsed": false
   },
   "outputs": [
    {
     "data": {
      "text/latex": [
       "$8.00\\,\\mathrm{USD}$"
      ],
      "text/plain": [
       "8.00 USD"
      ]
     },
     "metadata": {},
     "output_type": "display_data"
    },
    {
     "data": {
      "text/latex": [
       "$100.00\\,\\mathrm{EUR}$"
      ],
      "text/plain": [
       "100.00 EUR"
      ]
     },
     "metadata": {},
     "output_type": "display_data"
    }
   ],
   "source": [
    "for val in basket\n",
    "    display(val)\n",
    "end"
   ]
  },
  {
   "cell_type": "code",
   "execution_count": 26,
   "metadata": {
    "collapsed": false
   },
   "outputs": [
    {
     "data": {
      "text/latex": [
       "$100.00\\,\\mathrm{EUR}$"
      ],
      "text/plain": [
       "100.00 EUR"
      ]
     },
     "execution_count": 26,
     "metadata": {},
     "output_type": "execute_result"
    }
   ],
   "source": [
    "basket[:EUR]"
   ]
  },
  {
   "cell_type": "markdown",
   "metadata": {},
   "source": [
    "## Custom Currencies\n",
    "\n",
    "If a currency is not in ISO 4217, it is not too difficult to add it for custom use."
   ]
  },
  {
   "cell_type": "code",
   "execution_count": 27,
   "metadata": {
    "collapsed": false
   },
   "outputs": [
    {
     "data": {
      "text/latex": [
       "$1.0000\\,\\mathrm{pts}$"
      ],
      "text/plain": [
       "1.0000 pts"
      ]
     },
     "execution_count": 27,
     "metadata": {},
     "output_type": "execute_result"
    }
   ],
   "source": [
    "@usingcustomcurrency pts \"Points\" 4"
   ]
  },
  {
   "cell_type": "code",
   "execution_count": 28,
   "metadata": {
    "collapsed": false
   },
   "outputs": [
    {
     "data": {
      "text/latex": [
       "$6.0000\\,\\mathrm{pts}$"
      ],
      "text/plain": [
       "6.0000 pts"
      ]
     },
     "execution_count": 28,
     "metadata": {},
     "output_type": "execute_result"
    }
   ],
   "source": [
    "6pts"
   ]
  },
  {
   "cell_type": "code",
   "execution_count": 29,
   "metadata": {
    "collapsed": false
   },
   "outputs": [
    {
     "data": {
      "text/markdown": [
       "$3$-currency `Currencies.DynamicBasket`:\n",
       "\n",
       " - $8.00\\,\\mathrm{USD}$\n",
       " - $1.0000\\,\\mathrm{pts}$\n",
       " - $100.00\\,\\mathrm{EUR}$"
      ],
      "text/plain": [
       "3-currency Currencies.DynamicBasket:\n",
       " 8.00 USD\n",
       " 1.0000 pts\n",
       " 100.00 EUR"
      ]
     },
     "execution_count": 29,
     "metadata": {},
     "output_type": "execute_result"
    }
   ],
   "source": [
    "push!(basket, pts)"
   ]
  },
  {
   "cell_type": "markdown",
   "metadata": {},
   "source": [
    "## Performance\n",
    "\n",
    "Using `Monetary` objects is usually faster than using floating point numbers (while making sure to round properly), but not quite as fast as using integers. `Monetary` objects also come with higher memory overhead sometimes. These issues are being worked on and will hopefully become less severe with new releases of the library. For instance, consider the following function to make change for euros:"
   ]
  },
  {
   "cell_type": "code",
   "execution_count": 30,
   "metadata": {
    "collapsed": false
   },
   "outputs": [
    {
     "data": {
      "text/plain": [
       "change (generic function with 2 methods)"
      ]
     },
     "execution_count": 30,
     "metadata": {},
     "output_type": "execute_result"
    }
   ],
   "source": [
    "const COINS_I = [50000, 20000, 10000, 5000, 2000, 1000, 500, 200, 100, 50, 20, 10, 5, 2, 1]\n",
    "const COINS = [500EUR, 200EUR, 100EUR, 50EUR, 20EUR, 10EUR, 5EUR, 2EUR, 1EUR, 0.5EUR,\n",
    "    0.2EUR, 0.1EUR, 0.05EUR, 0.02EUR, 0.01EUR]\n",
    "\n",
    "function change(amount::Int)\n",
    "    coins = Dict{Int, Int}()\n",
    "    for denomination in COINS_I\n",
    "        coins[denomination], amount = divrem(amount, denomination)\n",
    "    end\n",
    "    coins\n",
    "end\n",
    "\n",
    "function change(amount::Monetary{:EUR,Int,2})\n",
    "    coins = Dict{Monetary{:EUR,Int,2}, Int}()\n",
    "    for denomination in COINS\n",
    "        coins[denomination], amount = divrem(amount, denomination)\n",
    "    end\n",
    "    coins\n",
    "end"
   ]
  },
  {
   "cell_type": "code",
   "execution_count": 32,
   "metadata": {
    "collapsed": false
   },
   "outputs": [
    {
     "name": "stdout",
     "output_type": "stream",
     "text": [
      "  0.000010 seconds (11 allocations: 2.125 KB)\n"
     ]
    },
    {
     "data": {
      "text/plain": [
       "Dict{Int64,Int64} with 15 entries:\n",
       "  200 => 1\n",
       "  100 => 1\n",
       "  50 => 0\n",
       "  2 => 1\n",
       "  10000 => 1\n",
       "  10 => 1\n",
       "  5000 => 0\n",
       "  1000 => 1\n",
       "  2000 => 1\n",
       "  20000 => 1\n",
       "  500 => 0\n",
       "  5 => 0\n",
       "  20 => 1\n",
       "  50000 => 0\n",
       "  1 => 1"
      ]
     },
     "execution_count": 32,
     "metadata": {},
     "output_type": "execute_result"
    }
   ],
   "source": [
    "@time change(33333)\n"
   ]
  },
  {
   "cell_type": "code",
   "execution_count": 34,
   "metadata": {
    "collapsed": false
   },
   "outputs": [
    {
     "name": "stdout",
     "output_type": "stream",
     "text": [
      "  0.000020 seconds (38 allocations: 2.547 KB)\n"
     ]
    },
    {
     "data": {
      "text/plain": [
       "Dict{Currencies.Monetary{:EUR,Int64,2},Int64} with 15 entries:\n",
       "  500.0EUR => 0\n",
       "  5.0EUR => 0\n",
       "  0.1EUR => 1\n",
       "  0.02EUR => 1\n",
       "  20.0EUR => 1\n",
       "  0.2EUR => 1\n",
       "  50.0EUR => 0\n",
       "  0.5EUR => 0\n",
       "  0.05EUR => 0\n",
       "  2.0EUR => 1\n",
       "  200.0EUR => 1\n",
       "  100.0EUR => 1\n",
       "  0.01EUR => 1\n",
       "  1.0EUR => 1\n",
       "  10.0EUR => 1"
      ]
     },
     "execution_count": 34,
     "metadata": {},
     "output_type": "execute_result"
    }
   ],
   "source": [
    "@time change(333.33EUR)"
   ]
  },
  {
   "cell_type": "code",
   "execution_count": 35,
   "metadata": {
    "collapsed": false
   },
   "outputs": [
    {
     "data": {
      "text/plain": [
       "33333"
      ]
     },
     "execution_count": 35,
     "metadata": {},
     "output_type": "execute_result"
    }
   ],
   "source": [
    "(333.33EUR).val"
   ]
  },
  {
   "cell_type": "code",
   "execution_count": null,
   "metadata": {
    "collapsed": true
   },
   "outputs": [],
   "source": []
  }
 ],
 "metadata": {
  "kernelspec": {
   "display_name": "Julia 0.5.0-dev",
   "language": "julia",
   "name": "julia-0.5"
  },
  "language_info": {
   "file_extension": ".jl",
   "mimetype": "application/julia",
   "name": "julia",
   "version": "0.5.0"
  }
 },
 "nbformat": 4,
 "nbformat_minor": 0
}
