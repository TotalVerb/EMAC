{
 "cells": [
  {
   "cell_type": "markdown",
   "metadata": {},
   "source": [
    "# Exploring Multiple Dispatch\n",
    "\n",
    "[Multiple dispatch](https://en.wikipedia.org/wiki/Multiple_dispatch) is a very powerful technique that can simplify code substantially. In short, it's about being able to define _generic_ functions that can work on a wide variety of types, perhaps using different code depending on the types used.\n",
    "\n",
    "In this notebook, we'll explore how to do so-called automatic differentiation with multiple dispatch, using the Julia language.\n",
    "\n",
    "## Taking Derivatives\n",
    "\n",
    "Firstly, let's have a look at the problem. Suppose we have a function $f$ that does something unknown. We want to find its derivative, $f'$. How might we approach this problem?\n",
    "\n",
    "Let's consider an example. Polynomial $p$ below is defined by $p(x) = 2x^3 + 3x^2 + 6x + 6$. We know from calculus that the derivative $p'(x) = 6x^2 + 6x + 6$. But how might we implement this in code? Recall the limit definition of a derivative: \\begin{equation}\n",
    " f'(a) = \\lim_{x\\to a} \\frac{f(x) - f(a)}{x-a}\n",
    "\\end{equation}\n",
    "\n",
    "Then, to calculate the derivative at $a$, we might be inclined to choose a value of $x$ very close to $a$, and simply evaluate the above expression. How close? With floating point numbers, we might wish to choose $a + a \\cdot \\mathbf{u}$, where $\\mathbf{u}$ is known as \"[machine epsilon](https://en.wikipedia.org/wiki/Machine_epsilon)\", and is a bound on the error due to rounding of floating point operations. (We will see later that this is not necessarily the best choice.)\n",
    "\n",
    "We'll work with $64$-bit floating points, so let's first compute our value of $\\mathbf{u}$ and define polynomial $p$:"
   ]
  },
  {
   "cell_type": "code",
   "execution_count": 1,
   "metadata": {
    "collapsed": false
   },
   "outputs": [],
   "source": [
    "const u = eps(Float64)"
   ]
  },
  {
   "cell_type": "code",
   "execution_count": 2,
   "metadata": {
    "collapsed": false
   },
   "outputs": [
    {
     "data": {
      "text/plain": [
       "p (generic function with 1 method)"
      ]
     },
     "execution_count": 2,
     "metadata": {},
     "output_type": "execute_result"
    }
   ],
   "source": [
    "p(x) = 2x^3 + 3x^2 + 6x + 6"
   ]
  },
  {
   "cell_type": "markdown",
   "metadata": {},
   "source": [
    "Now let's create our differentiation function. We want this function to take in a function, and return a function that computes its derivative. In Julia, the `->` syntax denotes the creation of a function. Think of the below code as mathematically representing \\begin{equation}\n",
    " f' = a \\mapsto \\frac{f(a + a \\cdot \\mathbf{u}) - f(a)}{a \\cdot \\mathbf{u}}\n",
    "\\end{equation} which is just a fancy way of saying \\begin{equation}\n",
    " f'(a) = \\frac{f(a + a \\cdot \\mathbf{u}) - f(a)}{a \\cdot \\mathbf{u}}\n",
    "\\end{equation}"
   ]
  },
  {
   "cell_type": "code",
   "execution_count": 3,
   "metadata": {
    "collapsed": false
   },
   "outputs": [
    {
     "data": {
      "text/plain": [
       "der_u (generic function with 1 method)"
      ]
     },
     "execution_count": 3,
     "metadata": {},
     "output_type": "execute_result"
    }
   ],
   "source": [
    "der_u(f) = a -> (f(a + a * u) - f(a)) / (a * u)"
   ]
  },
  {
   "cell_type": "markdown",
   "metadata": {},
   "source": [
    "To test this function, we'll define `p′` (note that this is not an apostrophe, which would be a syntax error; this is a unicode character that looks similar), and evaluate it at several points. For instance, we expect $p'(0) = 6$, $p'(1) = 18$, since these are the exact result that calculus gives us."
   ]
  },
  {
   "cell_type": "code",
   "execution_count": 4,
   "metadata": {
    "collapsed": false
   },
   "outputs": [
    {
     "name": "stderr",
     "output_type": "stream",
     "text": [
      "WARNING: Base.SingleAsyncWork is deprecated, use Base.AsyncCondition instead.\n",
      "  likely near /home/fengyang/.julia/v0.5/IJulia/src/kernel.jl:31\n",
      "in gc_protect_handle at /home/fengyang/.julia/v0.5/ZMQ/src/ZMQ.jl\n",
      "WARNING: Base.SingleAsyncWork is deprecated, use Base.AsyncCondition instead.\n",
      "  likely near /home/fengyang/.julia/v0.5/IJulia/src/kernel.jl:31\n",
      "WARNING: Base.SingleAsyncWork is deprecated, use Base.AsyncCondition instead.\n",
      "  likely near /home/fengyang/.julia/v0.5/IJulia/src/kernel.jl:31\n",
      "in gc_protect_handle at /home/fengyang/.julia/v0.5/ZMQ/src/ZMQ.jl\n",
      "WARNING: Base.SingleAsyncWork is deprecated, use Base.AsyncCondition instead.\n",
      "  likely near /home/fengyang/.julia/v0.5/IJulia/src/kernel.jl:31\n",
      "in gc_protect_handle at /home/fengyang/.julia/v0.5/ZMQ/src/ZMQ.jl\n",
      "WARNING: Base.SingleAsyncWork is deprecated, use Base.AsyncCondition instead.\n",
      "  likely near /home/fengyang/.julia/v0.5/IJulia/src/kernel.jl:31\n",
      "in gc_protect_handle at /home/fengyang/.julia/v0.5/ZMQ/src/ZMQ.jl\n"
     ]
    },
    {
     "data": {
      "text/plain": [
       "16.0"
      ]
     },
     "execution_count": 4,
     "metadata": {},
     "output_type": "execute_result"
    }
   ],
   "source": [
    "p′ = der_u(p)\n",
    "p′(1)"
   ]
  },
  {
   "cell_type": "markdown",
   "metadata": {},
   "source": [
    "Yikes. This is a complete disaster. Two off is bad enough, and returning a result that looks so innocent is even worse!"
   ]
  },
  {
   "cell_type": "code",
   "execution_count": 5,
   "metadata": {
    "collapsed": false
   },
   "outputs": [
    {
     "data": {
      "text/plain": [
       "NaN"
      ]
     },
     "execution_count": 5,
     "metadata": {},
     "output_type": "execute_result"
    }
   ],
   "source": [
    "p′(0)"
   ]
  },
  {
   "cell_type": "markdown",
   "metadata": {},
   "source": [
    "Oof. If being off by $2$ were bad, being off by `NaN` must be even worse. Clearly we need to refine our approach. Firstly, we need to make sure that there's a minimum difference that we use (for the case of $0$). And next, we should be more conservative about our choice of epsilon. Machine epsilon is too small. How about its square root, which is a bigger number? We'll call this $\\mathbf{v} = \\sqrt{\\mathbf{u}}$."
   ]
  },
  {
   "cell_type": "code",
   "execution_count": 6,
   "metadata": {
    "collapsed": false
   },
   "outputs": [
    {
     "data": {
      "text/plain": [
       "der_v (generic function with 1 method)"
      ]
     },
     "execution_count": 6,
     "metadata": {},
     "output_type": "execute_result"
    }
   ],
   "source": [
    "const v = sqrt(u)\n",
    "der_v(f) = function(a)\n",
    "    diff = a * v + v\n",
    "    (f(a + diff) - f(a)) / diff\n",
    "end"
   ]
  },
  {
   "cell_type": "code",
   "execution_count": 7,
   "metadata": {
    "collapsed": false
   },
   "outputs": [
    {
     "data": {
      "text/plain": [
       "18.00000023841858"
      ]
     },
     "execution_count": 7,
     "metadata": {},
     "output_type": "execute_result"
    }
   ],
   "source": [
    "p′ = der_v(p)\n",
    "p′(1)"
   ]
  },
  {
   "cell_type": "code",
   "execution_count": 8,
   "metadata": {
    "collapsed": false
   },
   "outputs": [
    {
     "data": {
      "text/plain": [
       "6.000000059604645"
      ]
     },
     "execution_count": 8,
     "metadata": {},
     "output_type": "execute_result"
    }
   ],
   "source": [
    "p′(0)"
   ]
  },
  {
   "cell_type": "markdown",
   "metadata": {},
   "source": [
    "Phew. This is much better. It could be more exact, but it's quite good as is. Let's try it on some other functions. Let's start with $\\mathrm{e}^x$, whose derivative is $\\mathrm{e}^x$."
   ]
  },
  {
   "cell_type": "code",
   "execution_count": 9,
   "metadata": {
    "collapsed": false
   },
   "outputs": [
    {
     "data": {
      "text/plain": [
       "1.0"
      ]
     },
     "execution_count": 9,
     "metadata": {},
     "output_type": "execute_result"
    }
   ],
   "source": [
    "exp′ = der_v(exp)\n",
    "exp′(0)"
   ]
  },
  {
   "cell_type": "code",
   "execution_count": 10,
   "metadata": {
    "collapsed": false
   },
   "outputs": [
    {
     "data": {
      "text/plain": [
       "2.7182818800210953"
      ]
     },
     "execution_count": 10,
     "metadata": {},
     "output_type": "execute_result"
    }
   ],
   "source": [
    "exp′(1)"
   ]
  },
  {
   "cell_type": "code",
   "execution_count": 11,
   "metadata": {
    "collapsed": false
   },
   "outputs": [
    {
     "data": {
      "text/plain": [
       "1000.0000560290179"
      ]
     },
     "execution_count": 11,
     "metadata": {},
     "output_type": "execute_result"
    }
   ],
   "source": [
    "exp′(log(1000))"
   ]
  },
  {
   "cell_type": "markdown",
   "metadata": {},
   "source": [
    "So far so good. How about $\\sin(x)$, whose derivative is $\\cos(x)$?"
   ]
  },
  {
   "cell_type": "code",
   "execution_count": 12,
   "metadata": {
    "collapsed": false
   },
   "outputs": [
    {
     "data": {
      "text/plain": [
       "1.0"
      ]
     },
     "execution_count": 12,
     "metadata": {},
     "output_type": "execute_result"
    }
   ],
   "source": [
    "sin′ = der_v(sin)\n",
    "sin′(0)"
   ]
  },
  {
   "cell_type": "code",
   "execution_count": 13,
   "metadata": {
    "collapsed": false
   },
   "outputs": [
    {
     "data": {
      "text/plain": [
       "0.8999999961400434"
      ]
     },
     "execution_count": 13,
     "metadata": {},
     "output_type": "execute_result"
    }
   ],
   "source": [
    "sin′(acos(0.9))"
   ]
  },
  {
   "cell_type": "markdown",
   "metadata": {},
   "source": [
    "Excellent! Everything is just fine and dandy. Now how about $\\log(x)$ (base $\\mathrm{e}$), whose derivative is $\\frac{1}{x}$?"
   ]
  },
  {
   "cell_type": "code",
   "execution_count": 14,
   "metadata": {
    "collapsed": false
   },
   "outputs": [
    {
     "data": {
      "text/plain": [
       "0.9999999850988391"
      ]
     },
     "execution_count": 14,
     "metadata": {},
     "output_type": "execute_result"
    }
   ],
   "source": [
    "log′ = der_v(log)\n",
    "log′(1)"
   ]
  },
  {
   "cell_type": "code",
   "execution_count": 15,
   "metadata": {
    "collapsed": false
   },
   "outputs": [
    {
     "data": {
      "text/plain": [
       "0.09999999674883756"
      ]
     },
     "execution_count": 15,
     "metadata": {},
     "output_type": "execute_result"
    }
   ],
   "source": [
    "log′(10)"
   ]
  },
  {
   "cell_type": "code",
   "execution_count": 16,
   "metadata": {
    "collapsed": false
   },
   "outputs": [
    {
     "data": {
      "text/plain": [
       "992622.6095255658"
      ]
     },
     "execution_count": 16,
     "metadata": {},
     "output_type": "execute_result"
    }
   ],
   "source": [
    "log′(1/1000000)"
   ]
  },
  {
   "cell_type": "markdown",
   "metadata": {},
   "source": [
    "Hmm. The error near $0$ is a bit higher than we might prefer. We could fix that by reducing $\\mathbf{v}$, but if we do that too much we end up in trouble. For now let's consider higher order derivatives. What about the second derivative of $\\mathrm{e}^x$?"
   ]
  },
  {
   "cell_type": "code",
   "execution_count": 17,
   "metadata": {
    "collapsed": false
   },
   "outputs": [
    {
     "data": {
      "text/plain": [
       "1.9999999701976776"
      ]
     },
     "execution_count": 17,
     "metadata": {},
     "output_type": "execute_result"
    }
   ],
   "source": [
    "exp′′ = der_v(exp′)\n",
    "exp′′(0)"
   ]
  },
  {
   "cell_type": "code",
   "execution_count": 18,
   "metadata": {
    "collapsed": false
   },
   "outputs": [
    {
     "data": {
      "text/plain": [
       "2.1408590227365494"
      ]
     },
     "execution_count": 18,
     "metadata": {},
     "output_type": "execute_result"
    }
   ],
   "source": [
    "exp′′(1)"
   ]
  },
  {
   "cell_type": "code",
   "execution_count": 19,
   "metadata": {
    "collapsed": false
   },
   "outputs": [
    {
     "data": {
      "text/plain": [
       "9.441047175715648"
      ]
     },
     "execution_count": 19,
     "metadata": {},
     "output_type": "execute_result"
    }
   ],
   "source": [
    "exp′′(log(10))"
   ]
  },
  {
   "cell_type": "markdown",
   "metadata": {},
   "source": [
    "This is a disaster. The error, which was acceptable initially, just compounded itself. And the problem is not specific to $\\mathrm{e}^x$."
   ]
  },
  {
   "cell_type": "code",
   "execution_count": 20,
   "metadata": {
    "collapsed": false
   },
   "outputs": [
    {
     "data": {
      "text/plain": [
       "0.008254849939365927"
      ]
     },
     "execution_count": 20,
     "metadata": {},
     "output_type": "execute_result"
    }
   ],
   "source": [
    "sin′′ = der_v(sin′)\n",
    "sin′′(π)"
   ]
  },
  {
   "cell_type": "code",
   "execution_count": 21,
   "metadata": {
    "collapsed": false
   },
   "outputs": [
    {
     "data": {
      "text/plain": [
       "-0.9078537644150019"
      ]
     },
     "execution_count": 21,
     "metadata": {},
     "output_type": "execute_result"
    }
   ],
   "source": [
    "sin′′(π/2)"
   ]
  },
  {
   "cell_type": "code",
   "execution_count": 22,
   "metadata": {
    "collapsed": false
   },
   "outputs": [
    {
     "data": {
      "text/plain": [
       "0.007438016716729511"
      ]
     },
     "execution_count": 22,
     "metadata": {},
     "output_type": "execute_result"
    }
   ],
   "source": [
    "log′′ = der_v(log′)\n",
    "log′′(10)"
   ]
  },
  {
   "cell_type": "markdown",
   "metadata": {},
   "source": [
    "You might imagine it to be a problem when the second deriviative of $\\log$, which is $x\\mapsto \\frac{-1}{x^2}$, is computed to be a positive number of magnitude comparable to the negative number it's supposed to be. Third and fourth derivatives, as you might imagine, are even worse. The error is ridiculous."
   ]
  },
  {
   "cell_type": "code",
   "execution_count": 23,
   "metadata": {
    "collapsed": false
   },
   "outputs": [
    {
     "data": {
      "text/plain": [
       "1.6777211679570556e7"
      ]
     },
     "execution_count": 23,
     "metadata": {},
     "output_type": "execute_result"
    }
   ],
   "source": [
    "exp′′′ = der_v(exp′′)\n",
    "exp′′′(1)"
   ]
  },
  {
   "cell_type": "code",
   "execution_count": 24,
   "metadata": {
    "collapsed": false
   },
   "outputs": [
    {
     "data": {
      "text/plain": [
       "-0.7602858901604265"
      ]
     },
     "execution_count": 24,
     "metadata": {},
     "output_type": "execute_result"
    }
   ],
   "source": [
    "sin′′′′ = der_v(der_v(sin′′))\n",
    "sin′′′′(π)"
   ]
  },
  {
   "cell_type": "markdown",
   "metadata": {},
   "source": [
    "It is easy to not notice the scientific notation in the computation of the third derivative of $\\mathrm{e}^x$ at $1$. The correct answer was $\\mathrm{e}=2.718\\dots$, and $1.6777$ would be far enough off already. But, look closely and it was actually computed to be $1.6777\\times10^7$. Seven orders of magnitude off. For your entertainment, I have included the fifth derivative of $\\mathrm{e}^x$ also."
   ]
  },
  {
   "cell_type": "code",
   "execution_count": 25,
   "metadata": {
    "collapsed": false
   },
   "outputs": [
    {
     "data": {
      "text/plain": [
       "-3.777892623345787e22"
      ]
     },
     "execution_count": 25,
     "metadata": {},
     "output_type": "execute_result"
    }
   ],
   "source": [
    "exp′′′′′ = der_v(der_v(exp′′′))\n",
    "exp′′′′′(1)"
   ]
  },
  {
   "cell_type": "markdown",
   "metadata": {},
   "source": [
    "Oof. We need a better way. In an ideal world, we could compute exact derivatives. Instead of approximating a limit by picking small numbers, we could compute the limit _exactly_. Wouldn't that be neat. It would be great if it were possible, but we are working with dumb silicon machines here, which cannot possibly compute values as exact as a human could. One can dream though. And if one dreamt hard enough, and one knew enough linear algebra, then one might come up with dual numbers, the technique that makes this possible.\n",
    "\n",
    "## Dual Numbers\n",
    "\n",
    "A [dual number](https://en.wikipedia.org/wiki/Dual_number) is like a complex number in that it has two components. But instead of $\\mathbb{R}[\\sqrt{-1}]$, we will consider $\\mathbb{R}[\\varepsilon]$, where $\\varepsilon$ is defined so that $\\varepsilon^2=0$. The intuition behind this definition is that $\\varepsilon$ is _really_ small. It's so small that it's smaller than **any** positive real number, but just a _little_ bigger than $0$. It's so small that if we multiply it by itself (multiplying really small by really small), that we can no longer see it.\n",
    "\n",
    "Aha. Now what if instead of using $\\mathbf{v} + a\\mathbf{v}$ as our epsilon, which is small but not that small, we can use $\\varepsilon$ as our epsilon? Fat chance, right? If even machine epsilon ($\\mathbf{u}$) was too small to work, how could $\\varepsilon$ possibly work?\n",
    "\n",
    "Our first speed bump is that $\\varepsilon$ is not something built-in. We need to define it. Let's worry about the details later and build a kind of `DualNumber` type:"
   ]
  },
  {
   "cell_type": "code",
   "execution_count": 26,
   "metadata": {
    "collapsed": true
   },
   "outputs": [],
   "source": [
    "immutable DualNumber{N <: Number} <: Number\n",
    "    re::N\n",
    "    ep::N\n",
    "end"
   ]
  },
  {
   "cell_type": "markdown",
   "metadata": {},
   "source": [
    "What the above definition says, in short, is that we wish to create a new `DualNumber` type with a single [type parameter](http://docs.julialang.org/en/release-0.4/manual/types/#man-parametric-types), which is a `Number`. In Julia, `Number` is an abstract type with many concrete implementations. Mathematically, we want `DualNumbers` to work with any field. Examples of common fields are $\\mathbb{R}$ and $\\mathbb{C}$. Furthermore, a `DualNumber` itself is a kind of number. We can create `DualNumber{Float64}` to deal with floating point type `DualNumber`s, and that's what we want for now. But we could do other cool stuff too. We'll look at that later.\n",
    "\n",
    "The type itself contains two fields, a `re` field containing the real (big) part, and the `ep` field containing the epsilon (small) part. So something like `DualNumber(1.0, 2.0)` would be equivalent to $1 + 2\\epsilon$.\n",
    "\n",
    "Julia will by default print `DualNumber`s like `DualNumber{Float64}(1.0, 2.0)`. This is descriptive and useful, but for our eyes' sake we should print `DualNumber`s of floats the way we expect, as $a+b\\varepsilon$, just like how complex numbers are usually printed. We can define the `Base.show` method on `DualNumber{T}` for all `T <: AbstractFloat`. `AbstractFloat` in Julia is an abstract type, again with many concrete implementations, in particular `Float16`, `Float32`, `Float64`, and `BigFloat`. We only want to define this show method on floats, because if we had `DualNumber`s of other types (such as complex numbers), it may not be printed nicely as $a+b\\varepsilon$."
   ]
  },
  {
   "cell_type": "code",
   "execution_count": 27,
   "metadata": {
    "collapsed": false
   },
   "outputs": [
    {
     "data": {
      "text/plain": [
       "show (generic function with 133 methods)"
      ]
     },
     "execution_count": 27,
     "metadata": {},
     "output_type": "execute_result"
    }
   ],
   "source": [
    "import Base: show\n",
    "\n",
    "function show{T <: AbstractFloat}(io::IO, num::DualNumber{T})\n",
    "    show(io, num.re)\n",
    "    if signbit(num.ep)\n",
    "        print(io, \" − \")\n",
    "        show(io, -num.ep)\n",
    "    else\n",
    "        print(io, \" + \")\n",
    "        show(io, num.ep)\n",
    "    end\n",
    "    print(io, \"ɛ\")\n",
    "end"
   ]
  },
  {
   "cell_type": "markdown",
   "metadata": {},
   "source": [
    "It would be convenient to have an $\\varepsilon$ constant for testing and usability purposes. But what type should this constant be? Ideally, we want a field that can be embedded in any bigger field, so that our constant can be converted to any type of `DualNumber`. The smallest possible field is $\\mathbb{Z}_2$. This is the field of booleans. So we want to define $\\varepsilon$ as a `DualNumber{Bool}`. Sounds crazy, but it's mathematically sound."
   ]
  },
  {
   "cell_type": "code",
   "execution_count": 28,
   "metadata": {
    "collapsed": false
   },
   "outputs": [
    {
     "data": {
      "text/plain": [
       "DualNumber{Bool}(false,true)"
      ]
     },
     "execution_count": 28,
     "metadata": {},
     "output_type": "execute_result"
    }
   ],
   "source": [
    "const ɛ = DualNumber(false, true)"
   ]
  },
  {
   "cell_type": "markdown",
   "metadata": {},
   "source": [
    "Good. It works. But Julia still doesn't know how these numbers work; we've only taught it how to show them, and what $\\varepsilon$ is. First, since these things are a vector space over their base field, we need to define addition and scalar multiplication. Scalar multiplication could be defined right now, but since we will be defining multiplication with these things soon enough, we can afford to wait on that briefly. The definition of addition is another example of multiple dispatch."
   ]
  },
  {
   "cell_type": "code",
   "execution_count": 29,
   "metadata": {
    "collapsed": false
   },
   "outputs": [
    {
     "data": {
      "text/plain": [
       "15.0 + 26.0ɛ"
      ]
     },
     "execution_count": 29,
     "metadata": {},
     "output_type": "execute_result"
    }
   ],
   "source": [
    "import Base: +\n",
    "\n",
    "+{T<:Number}(x::DualNumber{T}, y::DualNumber{T}) = DualNumber{T}(x.re + y.re, x.ep + y.ep)\n",
    "\n",
    "DualNumber(10.0, 17.0) + DualNumber(5.0, 9.0)"
   ]
  },
  {
   "cell_type": "markdown",
   "metadata": {},
   "source": [
    "It will also be useful to define some conversions between dual numbers and scalar types. This will let us write, say, `5 + 2.0ɛ` and get the right type back. Julia handles conversions and promotions using multiple dispatch. (Get used to it. Multiple dispatch is Julia's best feature, and good language design means heavily relying on your best feature! That's why C relies so much on raw pointer arithmetic.)"
   ]
  },
  {
   "cell_type": "code",
   "execution_count": 30,
   "metadata": {
    "collapsed": false
   },
   "outputs": [
    {
     "data": {
      "text/plain": [
       "convert (generic function with 555 methods)"
      ]
     },
     "execution_count": 30,
     "metadata": {},
     "output_type": "execute_result"
    }
   ],
   "source": [
    "import Base: convert\n",
    "\n",
    "convert{T<:Number}(::Type{DualNumber{T}}, x::DualNumber{T}) = x\n",
    "convert{T<:Number}(::Type{DualNumber{T}}, x::DualNumber) =\n",
    "    DualNumber{T}(convert(T, x.re), convert(T, x.ep))\n",
    "convert{T<:Number}(::Type{DualNumber{T}}, x::Number) =\n",
    "    DualNumber{T}(convert(T, x), zero(T))"
   ]
  },
  {
   "cell_type": "markdown",
   "metadata": {},
   "source": [
    "The above three methods describe ways to convert various kinds of things to `DualNumber`s. The first one says that to convert a dual number type to itself, nothing needs to be done. The second one tells Julia that to convert a `DualNumber` of one type to another, just convert each component. The third one tells Julia that to convert a regular number to a `DualNumber`, convert it to the base field and set the epsilon component to $0$. All these methods are mathematically straightforward and sound.\n",
    "\n",
    "Conversions themselves are not enough to add dual numbers with scalars. We also need to tell Julia how to promote the operands to a common, compatible type. In our case, we want to convert the scalars to `DualNumber`s."
   ]
  },
  {
   "cell_type": "code",
   "execution_count": 31,
   "metadata": {
    "collapsed": false
   },
   "outputs": [
    {
     "data": {
      "text/plain": [
       "promote_rule (generic function with 99 methods)"
      ]
     },
     "execution_count": 31,
     "metadata": {},
     "output_type": "execute_result"
    }
   ],
   "source": [
    "import Base: promote_rule\n",
    "\n",
    "promote_rule{T<:Number, U<:Number}(::Type{DualNumber{T}}, ::Type{DualNumber{U}}) =\n",
    "    DualNumber{promote_type(T, U)}\n",
    "promote_rule{T<:Number, U<:Number}(::Type{DualNumber{T}}, ::Type{U}) =\n",
    "    DualNumber{promote_type(T, U)}"
   ]
  },
  {
   "cell_type": "markdown",
   "metadata": {},
   "source": [
    "The first rule here says that two `DualNumber` types should be promoted to a `DualNumber` type whose base field is one compatible with both scalar types. The second rule says that a `DualNumber` and a scalar should be promoted to a `DualNumber`, with base field again compatible with both scalar types. By now we have encoded all the properties of dual numbers as being $\\mathbb{F}[\\varepsilon]$ for some field $\\mathbb{F}$, but we have yet to define the behaviour of this algebra under multiplication.\n",
    "\n",
    "Note \\begin{equation}\n",
    "(a + b\\varepsilon)(c + d\\varepsilon) = ac + ad\\varepsilon + bc\\varepsilon + bd\\varepsilon^2 = ac + (ad + bc)\\varepsilon\n",
    "\\end{equation}\n",
    "which you might notice resembles the Leibniz product rule. We can easily encode this:"
   ]
  },
  {
   "cell_type": "code",
   "execution_count": 32,
   "metadata": {
    "collapsed": false
   },
   "outputs": [
    {
     "data": {
      "text/plain": [
       "* (generic function with 140 methods)"
      ]
     },
     "execution_count": 32,
     "metadata": {},
     "output_type": "execute_result"
    }
   ],
   "source": [
    "import Base: *\n",
    "\n",
    "*{T<:Number}(x::DualNumber{T}, y::DualNumber{T}) =\n",
    "    DualNumber{T}(x.re * y.re, x.re * y.ep + x.ep * y.re)"
   ]
  },
  {
   "cell_type": "markdown",
   "metadata": {},
   "source": [
    "As mentioned above, a vector space must support scalar multiplication. But the above definition, in addition to our promotion rules, has us covered. Have a look:"
   ]
  },
  {
   "cell_type": "code",
   "execution_count": 33,
   "metadata": {
    "collapsed": false
   },
   "outputs": [
    {
     "data": {
      "text/plain": [
       "35.0 + 14.0ɛ"
      ]
     },
     "execution_count": 33,
     "metadata": {},
     "output_type": "execute_result"
    }
   ],
   "source": [
    "7(5.0 + 2ɛ)"
   ]
  },
  {
   "cell_type": "markdown",
   "metadata": {},
   "source": [
    "When you think about it, this is remarkably little code to implement an entire algebra on a new kind of number, especially when you consider that we have already handled tricky things like working with different types and conversions. This type business is a really good example of how powerful multiple dispatch is. We may now implement our derivative function:"
   ]
  },
  {
   "cell_type": "code",
   "execution_count": 34,
   "metadata": {
    "collapsed": false
   },
   "outputs": [
    {
     "data": {
      "text/plain": [
       "der (generic function with 1 method)"
      ]
     },
     "execution_count": 34,
     "metadata": {},
     "output_type": "execute_result"
    }
   ],
   "source": [
    "der(f) = a -> f(DualNumber(a, one(a))).ep"
   ]
  },
  {
   "cell_type": "markdown",
   "metadata": {},
   "source": [
    "A result from linear algebra tells us that because of how our dual numbers are defined, when the real part is looked at in isolation, the operations of addition and multiplication return the same results as if we did them on real numbers. So there is no sense inspecting the real component of $f(a + \\varepsilon)$ unless we also care about the value at that point. The epsilon component alone determines the derivative.\n",
    "\n",
    "This may sound magical still, but rest assured that it is all mathematically sound. And it works:"
   ]
  },
  {
   "cell_type": "code",
   "execution_count": 35,
   "metadata": {
    "collapsed": false
   },
   "outputs": [
    {
     "data": {
      "text/plain": [
       "6"
      ]
     },
     "execution_count": 35,
     "metadata": {},
     "output_type": "execute_result"
    }
   ],
   "source": [
    "p′ = der(p)\n",
    "p′(0)"
   ]
  },
  {
   "cell_type": "code",
   "execution_count": 36,
   "metadata": {
    "collapsed": false
   },
   "outputs": [
    {
     "data": {
      "text/plain": [
       "18"
      ]
     },
     "execution_count": 36,
     "metadata": {},
     "output_type": "execute_result"
    }
   ],
   "source": [
    "p′(1)"
   ]
  },
  {
   "cell_type": "markdown",
   "metadata": {},
   "source": [
    "Exact derivatives. Isn't that neat. But before we get too excited, we should note that our dual numbers only work with addition and multiplication right now. We haven't implemented any other operations (though Julia was able to figure out how to do (integer) exponentiation, which is another testament to the power of multiple dispatch). We can't yet take the derivative of, say, $\\mathrm{e}^x$ or $\\sin(x)$ or $\\cos(x)$ or $\\log(x)$, for example. Nor have we implemented division. Heck, we haven't even implemented subtraction! None of that is very hard though. Observe:"
   ]
  },
  {
   "cell_type": "code",
   "execution_count": 37,
   "metadata": {
    "collapsed": false
   },
   "outputs": [
    {
     "data": {
      "text/plain": [
       "/ (generic function with 49 methods)"
      ]
     },
     "execution_count": 37,
     "metadata": {},
     "output_type": "execute_result"
    }
   ],
   "source": [
    "import Base: exp, log, sin, cos, /, -\n",
    "\n",
    "-{T<:Number}(x::DualNumber{T}) = DualNumber{T}(-x.re, -x.ep)\n",
    "x::DualNumber - y::DualNumber = x + (-y)\n",
    "exp(x::DualNumber) = DualNumber(exp(x.re), exp(x.re) * x.ep)\n",
    "sin(x::DualNumber) = DualNumber(sin(x.re), cos(x.re) * x.ep)\n",
    "cos(x::DualNumber) = DualNumber(cos(x.re), -sin(x.re) * x.ep)\n",
    "log(x::DualNumber) = DualNumber(log(x.re), x.ep / x.re)\n",
    "x::DualNumber / y::DualNumber = DualNumber(x.re / y.re, x.ep / y.re - x.re * y.ep / y.re^2)\n"
   ]
  },
  {
   "cell_type": "markdown",
   "metadata": {},
   "source": [
    "Note that each of the functions we implemented is an application of the chain rule, with the exception of `/` which is an expanded form of the quotient rule. Convince yourself that these are mathematically correct. Then we can compute the derivative of any function, as long as it only calls the elementary functions that we've defined. Any other elementary functions needed can usually be quickly defined.\n",
    "\n",
    "For instance, here is an implementation of exponentiation, which extends the integer exponentiation Julia inferred:"
   ]
  },
  {
   "cell_type": "code",
   "execution_count": 38,
   "metadata": {
    "collapsed": false
   },
   "outputs": [
    {
     "data": {
      "text/plain": [
       "^ (generic function with 47 methods)"
      ]
     },
     "execution_count": 38,
     "metadata": {},
     "output_type": "execute_result"
    }
   ],
   "source": [
    "import Base: ^\n",
    "\n",
    "x::DualNumber ^ y::DualNumber = exp(y * log(x))"
   ]
  },
  {
   "cell_type": "markdown",
   "metadata": {},
   "source": [
    "And thus we can calculate the derivative of `x^(x^x)` like a piece of cake. Easier than [Sal Khan](https://www.khanacademy.org/math/differential-calculus/taking-derivatives/derivatives-inverse-functions/v/calculus-derivative-of-x-x-x) could do it! You can check [Wolfram Alpha](https://www.wolframalpha.com/input/?i=derivative+%28x^x^x%29+at+x%3D2) that this does indeed work."
   ]
  },
  {
   "cell_type": "code",
   "execution_count": 39,
   "metadata": {
    "collapsed": false
   },
   "outputs": [
    {
     "data": {
      "text/plain": [
       "107.11041244660137"
      ]
     },
     "execution_count": 39,
     "metadata": {},
     "output_type": "execute_result"
    }
   ],
   "source": [
    "der(x -> x^x^x)(2)"
   ]
  },
  {
   "cell_type": "markdown",
   "metadata": {},
   "source": [
    "We might expect that we could not find second derivatives in this way. The result of the `der` function, which relies on all the dual number arithmetic we developed, is too complex to even consider the possibility that it could deal with itself. Right?"
   ]
  },
  {
   "cell_type": "code",
   "execution_count": 40,
   "metadata": {
    "collapsed": false
   },
   "outputs": [
    {
     "data": {
      "text/plain": [
       "148.4131591025766"
      ]
     },
     "execution_count": 40,
     "metadata": {},
     "output_type": "execute_result"
    }
   ],
   "source": [
    "der(der(x -> e^x))(5)"
   ]
  },
  {
   "cell_type": "code",
   "execution_count": 41,
   "metadata": {
    "collapsed": false
   },
   "outputs": [
    {
     "data": {
      "text/plain": [
       "148.4131591025766"
      ]
     },
     "execution_count": 41,
     "metadata": {},
     "output_type": "execute_result"
    }
   ],
   "source": [
    "e^5"
   ]
  },
  {
   "cell_type": "code",
   "execution_count": 42,
   "metadata": {
    "collapsed": false
   },
   "outputs": [
    {
     "data": {
      "text/plain": [
       "-0.8414709848078965"
      ]
     },
     "execution_count": 42,
     "metadata": {},
     "output_type": "execute_result"
    }
   ],
   "source": [
    "der(der(x -> sin(x)))(1)"
   ]
  },
  {
   "cell_type": "code",
   "execution_count": 43,
   "metadata": {
    "collapsed": false
   },
   "outputs": [
    {
     "data": {
      "text/plain": [
       "-0.8414709848078965"
      ]
     },
     "execution_count": 43,
     "metadata": {},
     "output_type": "execute_result"
    }
   ],
   "source": [
    "-sin(1)"
   ]
  },
  {
   "cell_type": "code",
   "execution_count": 44,
   "metadata": {
    "collapsed": false
   },
   "outputs": [
    {
     "data": {
      "text/plain": [
       "0.002"
      ]
     },
     "execution_count": 44,
     "metadata": {},
     "output_type": "execute_result"
    }
   ],
   "source": [
    "der(der(der(x -> log(x))))(10)"
   ]
  },
  {
   "cell_type": "code",
   "execution_count": 45,
   "metadata": {
    "collapsed": false
   },
   "outputs": [
    {
     "data": {
      "text/plain": [
       "0.002"
      ]
     },
     "execution_count": 45,
     "metadata": {},
     "output_type": "execute_result"
    }
   ],
   "source": [
    "2/10^3"
   ]
  },
  {
   "cell_type": "markdown",
   "metadata": {},
   "source": [
    "You really can't make this stuff up. Higher order derivatives, for free, and they're as exact as you want them. How? It turns out that the way we've written our code allows `DualNumber{DualNumber{Float64}}`. That is, we can make `DualNumber`s from `DualNumber`s, and get our second derivatives that way. The `der` function was general enough that it didn't care what type it was using, as long as it was a subtype of `Number`, which `DualNumber` is. Mathematically, this isn't quite kosher, since the `DualNumber`s are not a field, but it still works for derivatives. Some vector space properties may be lost in translation though, but we did not really use those anyways.\n",
    "\n",
    "The only thing that would make this even better is if we could also compute exact complex derivatives. As you might have guessed, the answer is yes."
   ]
  },
  {
   "cell_type": "code",
   "execution_count": 46,
   "metadata": {
    "collapsed": false
   },
   "outputs": [
    {
     "data": {
      "text/plain": [
       "2 + 4im"
      ]
     },
     "execution_count": 46,
     "metadata": {},
     "output_type": "execute_result"
    }
   ],
   "source": [
    "der(x -> x^2)(1 + 2im)"
   ]
  },
  {
   "cell_type": "markdown",
   "metadata": {},
   "source": [
    "I hope that this illustrates two important principles: linear algebra is powerful, and multiple dispatch is powerful. When I saw this for the first time, it blew my mind.\n",
    "\n",
    "## So what is multiple dispatch?\n",
    "\n",
    "It might not have been clear what this magical fairy I was referring to actually _is_. What is multiple dispatch, and how did it help us achieve our result? I will try to briefly summarize below, but for more information, the [Julia documentation](http://docs.julialang.org/en/release-0.4/manual/methods/) gives a very good overview.\n",
    "\n",
    "When we talk in mathematics about a concept like $+$, we are talking about an abstract operation that has certain properties. For example, we expect it to be associative and commutative. But how this operation actually works is different depending on what exactly we are adding. Adding two integers is not the same operation as adding two dual numbers, as you probably could guess. But from a more abstract level, we think of both as $+$.\n",
    "\n",
    "Multiple dispatch allows the computer (and the person who implemented the methods in the first place) to handle the details of what exactly is the operation meant by $+$, while we relax and simply use it. The same function has multiple implementations depending on the types of its arguments. We may inspect this by looking at the native code generated for the addition (for my computer; your results may vary):"
   ]
  },
  {
   "cell_type": "code",
   "execution_count": 47,
   "metadata": {
    "collapsed": false
   },
   "outputs": [
    {
     "name": "stdout",
     "output_type": "stream",
     "text": [
      "\t.text\n",
      "Filename: int.jl\n",
      "Source line: 0\n",
      "\tpushq\t%rbp\n",
      "\tmovq\t%rsp, %rbp\n",
      "Source line: 32\n",
      "\tleaq\t(%rdi,%rsi), %rax\n",
      "\tpopq\t%rbp\n",
      "\tretq\n",
      "\tnopw\t(%rax,%rax)\n"
     ]
    }
   ],
   "source": [
    "@code_native 8 + 8"
   ]
  },
  {
   "cell_type": "code",
   "execution_count": 48,
   "metadata": {
    "collapsed": false
   },
   "outputs": [
    {
     "name": "stdout",
     "output_type": "stream",
     "text": [
      "\t.text\n",
      "Filename: In[29]\n",
      "Source line: 0\n",
      "\tpushq\t%rbp\n",
      "\tmovq\t%rsp, %rbp\n",
      "Source line: 3\n",
      "\tmovsd\t(%rsi), %xmm0           # xmm0 = mem[0],zero\n",
      "\tmovsd\t8(%rsi), %xmm1          # xmm1 = mem[0],zero\n",
      "\taddsd\t(%rdx), %xmm0\n",
      "\taddsd\t8(%rdx), %xmm1\n",
      "\tmovsd\t%xmm1, 8(%rdi)\n",
      "\tmovsd\t%xmm0, (%rdi)\n",
      "\tmovq\t%rdi, %rax\n",
      "\tpopq\t%rbp\n",
      "\tretq\n",
      "\tnopw\t%cs:(%rax,%rax)\n"
     ]
    }
   ],
   "source": [
    "@code_native (1.0 + ɛ) + (2.0 - ɛ)"
   ]
  },
  {
   "cell_type": "markdown",
   "metadata": {},
   "source": [
    "At the processor level, therefore, these two are very different operations. But the compiler handles those issues for us. We simply use $+$. So in some sense, multiple dispatch allows us to reason about code as we would reason about mathematics. It allows us to abstract away details and perform different operations using the same name. Then we can compose those operations into advanced functionality, and have the compiler generate the right sequence of instructions.\n",
    "\n",
    "If small, building blocks like $+$ are specialized on types, that allows bigger, higher-level functions to not worry about them. That is how we were able to define polynomials like $p$, thinking that they would be applied to real numbers, and then evaluate them on `DualNumber`s so we could compute their derivative. That is how Julia was able to compute integer exponentiation for our `DualNumber`s even though we told it nothing about it. That is how things \"just worked\" when we tried to dualize `Complex` and `DualNumber`. That is magic.\n",
    "\n",
    "Normally such a feature might make things slower. Julia's compiler is built in such a way that multiple dispatch comes at no runtime penalty. That's technologically incredible. Almost magic.\n",
    "\n",
    "In fact, nothing about what we did above would scream \"fast, efficient code\" in most languages. It's also not the fastest way to do it in Julia. But even so, Julia 0.5 is able to optimize `der` in some very simple cases. For example, below it was able to constant fold the derivative of $x \\mapsto x$ to $1$:"
   ]
  },
  {
   "cell_type": "code",
   "execution_count": 49,
   "metadata": {
    "collapsed": false
   },
   "outputs": [
    {
     "name": "stdout",
     "output_type": "stream",
     "text": [
      "\t.text\n",
      "Filename: In[34]\n",
      "Source line: 0\n",
      "\tpushq\t%rbp\n",
      "\tmovq\t%rsp, %rbp\n",
      "\tmovl\t$1, %eax\n",
      "Source line: 1\n",
      "\tpopq\t%rbp\n",
      "\tretq\n",
      "\tnopl\t(%rax,%rax)\n"
     ]
    }
   ],
   "source": [
    "code_native(der(x -> x), (Int,))"
   ]
  },
  {
   "cell_type": "markdown",
   "metadata": {},
   "source": [
    "Even though we've made no attempt to optimize our code, `der` is pretty fast. Check this out:"
   ]
  },
  {
   "cell_type": "code",
   "execution_count": 51,
   "metadata": {
    "collapsed": false
   },
   "outputs": [
    {
     "name": "stdout",
     "output_type": "stream",
     "text": [
      "  0.000002 seconds (4 allocations: 160 bytes)\n",
      "  0.000003 seconds (4 allocations: 160 bytes)\n"
     ]
    },
    {
     "data": {
      "text/plain": [
       "186"
      ]
     },
     "execution_count": 51,
     "metadata": {},
     "output_type": "execute_result"
    }
   ],
   "source": [
    "p(0)\n",
    "p′(0)\n",
    "\n",
    "@time p(5)\n",
    "@time p′(5)"
   ]
  },
  {
   "cell_type": "markdown",
   "metadata": {},
   "source": [
    "Note that these times are both overestimates. My system clock cannot distingush anything that takes shorter than about 0.000005 seconds. More important is the number of bytes allocated, which is pretty reasonable for both.\n",
    "\n",
    "## Bonus Content\n",
    "\n",
    "Above I mentioned that `der` is able to take **exact** derivatives. That's a bold claim. I've done nothing to prove that so far, since we've been working with floating point numbers.\n",
    "\n",
    "It turns out that I did not exaggerate. All we need is a type that can represent things symbolically! Enter... `SymbolicReal`:"
   ]
  },
  {
   "cell_type": "code",
   "execution_count": 52,
   "metadata": {
    "collapsed": false
   },
   "outputs": [
    {
     "data": {
      "text/plain": [
       "promote_rule (generic function with 100 methods)"
      ]
     },
     "execution_count": 52,
     "metadata": {},
     "output_type": "execute_result"
    }
   ],
   "source": [
    "immutable SymbolicReal <: Number\n",
    "    expr\n",
    "end\n",
    "\n",
    "+(r::SymbolicReal, s::SymbolicReal) = SymbolicReal(:($(r.expr) + $(s.expr)))\n",
    "*(r::SymbolicReal, s::SymbolicReal) = SymbolicReal(:($(r.expr) * $(s.expr)))\n",
    "-(r::SymbolicReal, s::SymbolicReal) = SymbolicReal(:($(r.expr) - $(s.expr)))\n",
    "/(r::SymbolicReal, s::SymbolicReal) = SymbolicReal(:($(r.expr) / $(s.expr)))\n",
    "^(r::SymbolicReal, s::SymbolicReal) = exp(s * log(r))\n",
    "sin(r::SymbolicReal) = SymbolicReal(:(sin($(r.expr))))\n",
    "cos(r::SymbolicReal) = SymbolicReal(:(cos($(r.expr))))\n",
    "exp(r::SymbolicReal) = SymbolicReal(:(exp($(r.expr))))\n",
    "log(r::SymbolicReal) = SymbolicReal(:(log($(r.expr))))\n",
    "\n",
    "convert(::Type{SymbolicReal}, r::SymbolicReal) = r\n",
    "convert(::Type{SymbolicReal}, n::Number) = SymbolicReal(n)\n",
    "promote_rule{T<:Number}(::Type{SymbolicReal}, ::Type{T}) = SymbolicReal"
   ]
  },
  {
   "cell_type": "markdown",
   "metadata": {},
   "source": [
    "Here we bootstraped off Julia's expressions. Of course, we don't do any simplification or anything above. Expressions just keep growing and growing. But it really does work:"
   ]
  },
  {
   "cell_type": "code",
   "execution_count": 53,
   "metadata": {
    "collapsed": false
   },
   "outputs": [
    {
     "data": {
      "text/plain": [
       "SymbolicReal(:(x * (x * 1 + 1x) + 1 * (x * x)))"
      ]
     },
     "execution_count": 53,
     "metadata": {},
     "output_type": "execute_result"
    }
   ],
   "source": [
    "der(x -> x^3)(SymbolicReal(:(x)))"
   ]
  },
  {
   "cell_type": "markdown",
   "metadata": {},
   "source": [
    "A human would simplify the above to $3x^2$, which is the exact derivative."
   ]
  },
  {
   "cell_type": "code",
   "execution_count": 54,
   "metadata": {
    "collapsed": false
   },
   "outputs": [
    {
     "data": {
      "text/plain": [
       "SymbolicReal(:(exp(x * log(x)) * (x * (1 / x) + 1 * log(x))))"
      ]
     },
     "execution_count": 54,
     "metadata": {},
     "output_type": "execute_result"
    }
   ],
   "source": [
    "der(x -> x^x)(SymbolicReal(:(x)))"
   ]
  },
  {
   "cell_type": "markdown",
   "metadata": {},
   "source": [
    "A human might simplify the above to $x^x (1 + \\log(x))$, which is the exact derivative.\n",
    "\n",
    "## DualNumbers.jl\n",
    "\n",
    "Our implementation of dual numbers is rushed, hurried, and incomplete. For a solid implementation currently in use today, see [DualNumbers.jl](https://github.com/JuliaDiff/DualNumbers.jl/)."
   ]
  }
 ],
 "metadata": {
  "kernelspec": {
   "display_name": "Julia 0.5.0-dev",
   "language": "julia",
   "name": "julia-0.5"
  },
  "language_info": {
   "file_extension": ".jl",
   "mimetype": "application/julia",
   "name": "julia",
   "version": "0.5.0"
  }
 },
 "nbformat": 4,
 "nbformat_minor": 0
}
